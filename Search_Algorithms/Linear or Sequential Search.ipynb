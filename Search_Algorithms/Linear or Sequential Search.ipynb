{
 "cells": [
  {
   "cell_type": "markdown",
   "id": "adaf3a70",
   "metadata": {},
   "source": [
    "## Sequential or Linear Search\n",
    "\n",
    "In this linear search algorithm we start from index 0 of an array and iterate\n",
    "through the array untill we found the key"
   ]
  },
  {
   "cell_type": "code",
   "execution_count": null,
   "id": "d3a1adfe",
   "metadata": {},
   "outputs": [],
   "source": []
  },
  {
   "cell_type": "code",
   "execution_count": 1,
   "id": "75eff049",
   "metadata": {},
   "outputs": [],
   "source": [
    "def search(array, key):\n",
    "    for i in range(len(array)):\n",
    "        if array[i] == key:\n",
    "            return i\n",
    "    return -1"
   ]
  },
  {
   "cell_type": "code",
   "execution_count": 2,
   "id": "5b7e5e6b",
   "metadata": {},
   "outputs": [],
   "source": [
    "arr = [0,1,3,5,2,7]\n",
    "key = 2"
   ]
  },
  {
   "cell_type": "code",
   "execution_count": 3,
   "id": "86c9696f",
   "metadata": {},
   "outputs": [
    {
     "data": {
      "text/plain": [
       "4"
      ]
     },
     "execution_count": 3,
     "metadata": {},
     "output_type": "execute_result"
    }
   ],
   "source": [
    "search(arr, key)"
   ]
  },
  {
   "cell_type": "code",
   "execution_count": null,
   "id": "eb1c3fa6",
   "metadata": {},
   "outputs": [],
   "source": []
  }
 ],
 "metadata": {
  "kernelspec": {
   "display_name": "Python 3 (ipykernel)",
   "language": "python",
   "name": "python3"
  },
  "language_info": {
   "codemirror_mode": {
    "name": "ipython",
    "version": 3
   },
   "file_extension": ".py",
   "mimetype": "text/x-python",
   "name": "python",
   "nbconvert_exporter": "python",
   "pygments_lexer": "ipython3",
   "version": "3.10.9"
  }
 },
 "nbformat": 4,
 "nbformat_minor": 5
}
