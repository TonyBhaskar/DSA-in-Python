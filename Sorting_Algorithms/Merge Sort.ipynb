{
 "cells": [
  {
   "cell_type": "markdown",
   "id": "ffedb2c7",
   "metadata": {},
   "source": [
    "## Merge Sort"
   ]
  },
  {
   "cell_type": "code",
   "execution_count": null,
   "id": "a42e939f",
   "metadata": {},
   "outputs": [],
   "source": []
  },
  {
   "cell_type": "code",
   "execution_count": 5,
   "id": "9e32c212",
   "metadata": {},
   "outputs": [],
   "source": [
    "def merge(left, right):\n",
    "    i, j = 0,0\n",
    "    result = list()\n",
    "    while (i<len(left)) and (j < len(right)):\n",
    "        if left[i] < right[j]:\n",
    "            result.append(left[i])\n",
    "            i = i+1\n",
    "        elif left[i] > right[j]:\n",
    "            result.append(right[j])\n",
    "            j = j+1\n",
    "    while (i<len(left)):\n",
    "        result.append(left[i])\n",
    "        i+=1\n",
    "    while (j<len(right)):\n",
    "        result.append(right[j])\n",
    "        j+=1\n",
    "    \n",
    "    return result"
   ]
  },
  {
   "cell_type": "code",
   "execution_count": 10,
   "id": "978851e2",
   "metadata": {},
   "outputs": [],
   "source": [
    "def merge_sort(array):\n",
    "    #base condition\n",
    "    if len(array) <=1:\n",
    "        return array[:]\n",
    "    else:\n",
    "        mid = len(array)//2\n",
    "        \n",
    "        left = merge_sort(array[:mid])\n",
    "        right = merge_sort(array[mid:])\n",
    "        return merge(left, right)"
   ]
  },
  {
   "cell_type": "code",
   "execution_count": 11,
   "id": "c02ed24e",
   "metadata": {},
   "outputs": [],
   "source": [
    "arr = [5,1,6,2,0]"
   ]
  },
  {
   "cell_type": "code",
   "execution_count": 12,
   "id": "ce68e98b",
   "metadata": {},
   "outputs": [
    {
     "data": {
      "text/plain": [
       "[0, 1, 2, 5, 6]"
      ]
     },
     "execution_count": 12,
     "metadata": {},
     "output_type": "execute_result"
    }
   ],
   "source": [
    "merge_sort(arr)"
   ]
  },
  {
   "cell_type": "code",
   "execution_count": null,
   "id": "fd207a32",
   "metadata": {},
   "outputs": [],
   "source": []
  }
 ],
 "metadata": {
  "kernelspec": {
   "display_name": "Python 3 (ipykernel)",
   "language": "python",
   "name": "python3"
  },
  "language_info": {
   "codemirror_mode": {
    "name": "ipython",
    "version": 3
   },
   "file_extension": ".py",
   "mimetype": "text/x-python",
   "name": "python",
   "nbconvert_exporter": "python",
   "pygments_lexer": "ipython3",
   "version": "3.10.9"
  }
 },
 "nbformat": 4,
 "nbformat_minor": 5
}
