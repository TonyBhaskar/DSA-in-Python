{
 "cells": [
  {
   "cell_type": "markdown",
   "id": "2c3e9568",
   "metadata": {},
   "source": [
    "## Quick Sort"
   ]
  },
  {
   "cell_type": "raw",
   "id": "437b7158",
   "metadata": {},
   "source": [
    "Here we take a pivot value \n",
    "and partition that array like all the values less than pivot to left and greater than values at the right \n",
    "and repeat the process"
   ]
  },
  {
   "cell_type": "code",
   "execution_count": 1,
   "id": "2016bae7",
   "metadata": {},
   "outputs": [],
   "source": [
    "def QuickSort(array):\n",
    "    if len(array)>1:\n",
    "        pivot = int(len(array)/2)\n",
    "\n",
    "        pivot_value = array[pivot]\n",
    "\n",
    "        left_array = [i for i in array if i<pivot_value]\n",
    "        mid_array = [i for i in array if i == pivot_value]\n",
    "        right_array = [i for i in array if i>pivot_value]\n",
    "\n",
    "        result_array = QuickSort(left_array) + mid_array + QuickSort(right_array)\n",
    "\n",
    "        return result_array\n",
    "    else:\n",
    "        return array"
   ]
  },
  {
   "cell_type": "code",
   "execution_count": 2,
   "id": "cc6d1f44",
   "metadata": {},
   "outputs": [],
   "source": [
    "arr = [5, 4, 2, 3, 4, 9, 2, 10, 6, 7]"
   ]
  },
  {
   "cell_type": "code",
   "execution_count": 3,
   "id": "ce4adebb",
   "metadata": {},
   "outputs": [
    {
     "data": {
      "text/plain": [
       "[2, 2, 3, 4, 4, 5, 6, 7, 9, 10]"
      ]
     },
     "execution_count": 3,
     "metadata": {},
     "output_type": "execute_result"
    }
   ],
   "source": [
    "QuickSort(arr)"
   ]
  },
  {
   "cell_type": "code",
   "execution_count": null,
   "id": "6342469c",
   "metadata": {},
   "outputs": [],
   "source": []
  }
 ],
 "metadata": {
  "kernelspec": {
   "display_name": "Python 3 (ipykernel)",
   "language": "python",
   "name": "python3"
  },
  "language_info": {
   "codemirror_mode": {
    "name": "ipython",
    "version": 3
   },
   "file_extension": ".py",
   "mimetype": "text/x-python",
   "name": "python",
   "nbconvert_exporter": "python",
   "pygments_lexer": "ipython3",
   "version": "3.10.9"
  }
 },
 "nbformat": 4,
 "nbformat_minor": 5
}
