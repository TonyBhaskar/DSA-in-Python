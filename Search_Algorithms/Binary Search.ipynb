{
 "cells": [
  {
   "cell_type": "markdown",
   "id": "b6a3a21e",
   "metadata": {},
   "source": [
    "## Binary Search"
   ]
  },
  {
   "cell_type": "raw",
   "id": "393fb33d",
   "metadata": {},
   "source": [
    "Its actually works if the array is sorted \n",
    "1.we check if the key is equal to middle element if yes return index else \n",
    "2.we check if the key is greater or less than the middle element\n",
    "3.if key is less than middle element then we leave other half(right) part and again repeat step.1 and step.2\n",
    "untill we found the key"
   ]
  },
  {
   "cell_type": "code",
   "execution_count": 7,
   "id": "cea39940",
   "metadata": {},
   "outputs": [],
   "source": [
    "def bsearch(array, key):\n",
    "    start = 0\n",
    "    end = len(array)-1 #if length is 5 and we start with index 0, then last index is 4(5-1)\n",
    "    \n",
    "    while start <= end:\n",
    "        mid = (start+end)//2 #if length of array is odd (//) is always return floor(number)\n",
    "        if key == array[mid]:\n",
    "            return mid\n",
    "        elif key > array[mid]:\n",
    "            start = mid + 1\n",
    "        else:\n",
    "            end = mid-1\n",
    "\n",
    "    return -1 # default return -1 if not found    "
   ]
  },
  {
   "cell_type": "code",
   "execution_count": 8,
   "id": "ac53a4fc",
   "metadata": {},
   "outputs": [
    {
     "data": {
      "text/plain": [
       "3"
      ]
     },
     "execution_count": 8,
     "metadata": {},
     "output_type": "execute_result"
    }
   ],
   "source": [
    "# Example \n",
    "\n",
    "#sorted array\n",
    "\n",
    "arr = [1,3,5,6,7,9]\n",
    "key = 6\n",
    "\n",
    "bsearch(arr, key)"
   ]
  },
  {
   "cell_type": "code",
   "execution_count": null,
   "id": "f5701601",
   "metadata": {},
   "outputs": [],
   "source": []
  }
 ],
 "metadata": {
  "kernelspec": {
   "display_name": "Python 3 (ipykernel)",
   "language": "python",
   "name": "python3"
  },
  "language_info": {
   "codemirror_mode": {
    "name": "ipython",
    "version": 3
   },
   "file_extension": ".py",
   "mimetype": "text/x-python",
   "name": "python",
   "nbconvert_exporter": "python",
   "pygments_lexer": "ipython3",
   "version": "3.10.9"
  }
 },
 "nbformat": 4,
 "nbformat_minor": 5
}
