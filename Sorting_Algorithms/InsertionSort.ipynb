{
 "cells": [
  {
   "cell_type": "markdown",
   "id": "75015ad8",
   "metadata": {},
   "source": [
    "## Insertion Sort "
   ]
  },
  {
   "cell_type": "raw",
   "id": "c51248c1",
   "metadata": {},
   "source": [
    "Insertion sort will take the key starting from index 1 \n",
    "and chack where it belongs to through a while loop and insert it there"
   ]
  },
  {
   "cell_type": "code",
   "execution_count": 1,
   "id": "de9f613c",
   "metadata": {},
   "outputs": [],
   "source": [
    "def isort(array):\n",
    "    for j in range(1,len(array)):\n",
    "        key = array[j]\n",
    "        i = j-1\n",
    "        while i>=0 and array[i] > key:\n",
    "            array[i+1] = array[i]\n",
    "            i = i-1\n",
    "        array[i+1] = key\n",
    "    return array"
   ]
  },
  {
   "cell_type": "code",
   "execution_count": 2,
   "id": "b4d8bdfc",
   "metadata": {},
   "outputs": [],
   "source": [
    "arr = [2,5,9,1,5]"
   ]
  },
  {
   "cell_type": "code",
   "execution_count": 3,
   "id": "deb69780",
   "metadata": {},
   "outputs": [
    {
     "data": {
      "text/plain": [
       "[1, 2, 5, 5, 9]"
      ]
     },
     "execution_count": 3,
     "metadata": {},
     "output_type": "execute_result"
    }
   ],
   "source": [
    "isort(arr)"
   ]
  },
  {
   "cell_type": "code",
   "execution_count": null,
   "id": "a8a568c8",
   "metadata": {},
   "outputs": [],
   "source": []
  }
 ],
 "metadata": {
  "kernelspec": {
   "display_name": "Python 3 (ipykernel)",
   "language": "python",
   "name": "python3"
  },
  "language_info": {
   "codemirror_mode": {
    "name": "ipython",
    "version": 3
   },
   "file_extension": ".py",
   "mimetype": "text/x-python",
   "name": "python",
   "nbconvert_exporter": "python",
   "pygments_lexer": "ipython3",
   "version": "3.10.9"
  }
 },
 "nbformat": 4,
 "nbformat_minor": 5
}
