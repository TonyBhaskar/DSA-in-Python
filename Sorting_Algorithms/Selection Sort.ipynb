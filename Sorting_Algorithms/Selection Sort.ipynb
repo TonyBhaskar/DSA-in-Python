{
 "cells": [
  {
   "cell_type": "markdown",
   "id": "09496a2b",
   "metadata": {},
   "source": [
    "## Selection Sort"
   ]
  },
  {
   "cell_type": "raw",
   "id": "07034fb5",
   "metadata": {},
   "source": [
    "It selects the smallest element from the array and swap it with the first element\n",
    "in second pass it will selects the second smallest element and swap it with the second element \n",
    "and so on.....till all elements are sorted"
   ]
  },
  {
   "cell_type": "code",
   "execution_count": 1,
   "id": "3d452ba0",
   "metadata": {},
   "outputs": [],
   "source": [
    "def selection_sort(array):\n",
    "    for i in range(len(array)):\n",
    "        min_pos = i\n",
    "        for j in range(i+1, len(array)):\n",
    "            if array[j] < array[i]:\n",
    "                min_pos = j\n",
    "        array[i], array[min_pos] = array[min_pos], array[i]\n",
    "    return array"
   ]
  },
  {
   "cell_type": "code",
   "execution_count": 2,
   "id": "3b51d19f",
   "metadata": {},
   "outputs": [],
   "source": [
    "arr = [2,5,9,1,5]"
   ]
  },
  {
   "cell_type": "code",
   "execution_count": 3,
   "id": "8cac8570",
   "metadata": {},
   "outputs": [
    {
     "data": {
      "text/plain": [
       "[1, 2, 5, 5, 9]"
      ]
     },
     "execution_count": 3,
     "metadata": {},
     "output_type": "execute_result"
    }
   ],
   "source": [
    "selection_sort(arr)"
   ]
  },
  {
   "cell_type": "raw",
   "id": "d0609d3f",
   "metadata": {},
   "source": [
    "what if we given empty list"
   ]
  },
  {
   "cell_type": "code",
   "execution_count": 4,
   "id": "ab55b57c",
   "metadata": {},
   "outputs": [],
   "source": [
    "arr = []"
   ]
  },
  {
   "cell_type": "code",
   "execution_count": 5,
   "id": "85119d12",
   "metadata": {},
   "outputs": [
    {
     "data": {
      "text/plain": [
       "[]"
      ]
     },
     "execution_count": 5,
     "metadata": {},
     "output_type": "execute_result"
    }
   ],
   "source": [
    "selection_sort(arr)"
   ]
  },
  {
   "cell_type": "code",
   "execution_count": null,
   "id": "66e4ddce",
   "metadata": {},
   "outputs": [],
   "source": []
  }
 ],
 "metadata": {
  "kernelspec": {
   "display_name": "Python 3 (ipykernel)",
   "language": "python",
   "name": "python3"
  },
  "language_info": {
   "codemirror_mode": {
    "name": "ipython",
    "version": 3
   },
   "file_extension": ".py",
   "mimetype": "text/x-python",
   "name": "python",
   "nbconvert_exporter": "python",
   "pygments_lexer": "ipython3",
   "version": "3.10.9"
  }
 },
 "nbformat": 4,
 "nbformat_minor": 5
}
